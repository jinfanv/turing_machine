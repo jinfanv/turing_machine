{
  "cells": [
    {
      "cell_type": "markdown",
      "metadata": {
        "id": "view-in-github",
        "colab_type": "text"
      },
      "source": [
        "<a href=\"https://colab.research.google.com/github/jinfanv/turing_machine/blob/main/turing.ipynb\" target=\"_parent\"><img src=\"https://colab.research.google.com/assets/colab-badge.svg\" alt=\"Open In Colab\"/></a>"
      ]
    },
    {
      "cell_type": "markdown",
      "source": [
        "# Turing Machine"
      ],
      "metadata": {
        "id": "Le9XxfNcN_GO"
      }
    },
    {
      "cell_type": "markdown",
      "source": [
        "## Teoria"
      ],
      "metadata": {
        "id": "DNauNwDCOC6p"
      }
    },
    {
      "cell_type": "markdown",
      "source": [
        "Implement the machine turing\n",
        "\n",
        "Referent:\n",
        "Teory of machine turing: https://www.youtube.com/watch?v=NS-NQ5mCSs8\n",
        "Test: http://morphett.info/turing/turing.html\n",
        "\n",
        "\n",
        "La maquina de turing funciona como una abstracción de una computadora que cuenta con un cabezal de lectura y escritura, una cinta infinita que representa la memoria y diferentes estados que le indican al cabezal que deberia hacer en cada momento. \n",
        "\n",
        "**Diccionario:** \\\n",
        "    [1,0] = Representa el diccionario con el cual se representa la información \\\n",
        "    [L,R,*] = Representa los movimientos del cabezal (Izquierda, Derecha, Sin movimiento) \\\n",
        "    [!] = Representa la finalización del programa"
      ],
      "metadata": {
        "collapsed": false,
        "pycharm": {
          "name": "#%% md\n"
        },
        "id": "anz3QrBhABwb"
      }
    },
    {
      "cell_type": "markdown",
      "source": [
        "## Implementación de maquina de turing para la operación 2x + 1 con el Input en Binario"
      ],
      "metadata": {
        "id": "15EH-3vBOFWz"
      }
    },
    {
      "cell_type": "code",
      "execution_count": 27,
      "metadata": {
        "pycharm": {
          "name": "#%%\n"
        },
        "id": "G87JWlr0ABwo"
      },
      "outputs": [],
      "source": [
        "def turing_machine(instruction, input):\n",
        "    state = instruction[0]\n",
        "    head = list(input)\n",
        "    print(\"Head\", head)\n",
        "    print(\"State\", state)\n",
        "    position = 0\n",
        "    while True:\n",
        "        # Determination the action\n",
        "        # action = [x[0] == head[position] for x in state]\n",
        "        position_max = len(head)\n",
        "        action = None\n",
        "        for x in state:\n",
        "            print(\"x\",x)\n",
        "            if x[0] == head[position]:\n",
        "                action = x\n",
        "                break\n",
        "        print(\"Action\", action)\n",
        "        # If the action is stop\n",
        "        if '!' in action:\n",
        "            return head\n",
        "        # Change the value in head\n",
        "        head[position] = action[1]\n",
        "        # Move the position head\n",
        "        if action[2] == 'R':\n",
        "            position += 1\n",
        "        if action[2] == 'L':\n",
        "            position -= 1\n",
        "        # Add spaces\n",
        "        if position >= position_max:\n",
        "            head.append('-')\n",
        "        if position < 0:\n",
        "            head.insert(0,'-')\n",
        "            position = 0\n",
        "        #Update state\n",
        "\n",
        "        state = instruction[action[3]]"
      ]
    },
    {
      "cell_type": "code",
      "source": [
        "# Intruction for 2x + 1\n",
        "instruction = [\n",
        "    [('-','-','L',1), ('0','0','R',0), ('1','1','R',0)],\n",
        "    [('1','0','L',2), ('0','0','L',1), ('-','-','R',4)],\n",
        "    [('0','1','L',1), ('1','1','L',2), ('-','1','L',3)],\n",
        "    [('-','-','R',4)],\n",
        "    [('0','0','R',4),('1','1','R',4),('-','-','L',5)],\n",
        "    [('0','1','L',6),('1','0','L',7)],\n",
        "    [('0','0','L',6),('1','1','L',6),('-','-','*',6,'!')]\n",
        "]\n",
        "input = '10'\n",
        "result = turing_machine(instruction, input)\n",
        "print(\"Result\", result)"
      ],
      "metadata": {
        "colab": {
          "base_uri": "https://localhost:8080/"
        },
        "id": "Rsl0oJ9HOYBe",
        "outputId": "ad2048d1-33ee-46f3-fc95-66d90174fbe5"
      },
      "execution_count": 28,
      "outputs": [
        {
          "output_type": "stream",
          "name": "stdout",
          "text": [
            "Head ['1', '0']\n",
            "State [('-', '-', 'L', 1), ('0', '0', 'R', 0), ('1', '1', 'R', 0)]\n",
            "x ('-', '-', 'L', 1)\n",
            "x ('0', '0', 'R', 0)\n",
            "x ('1', '1', 'R', 0)\n",
            "Action ('1', '1', 'R', 0)\n",
            "x ('-', '-', 'L', 1)\n",
            "x ('0', '0', 'R', 0)\n",
            "Action ('0', '0', 'R', 0)\n",
            "x ('-', '-', 'L', 1)\n",
            "Action ('-', '-', 'L', 1)\n",
            "x ('1', '0', 'L', 2)\n",
            "x ('0', '0', 'L', 1)\n",
            "Action ('0', '0', 'L', 1)\n",
            "x ('1', '0', 'L', 2)\n",
            "Action ('1', '0', 'L', 2)\n",
            "x ('0', '1', 'L', 1)\n",
            "x ('1', '1', 'L', 2)\n",
            "x ('-', '1', 'L', 3)\n",
            "Action ('-', '1', 'L', 3)\n",
            "x ('-', '-', 'R', 4)\n",
            "Action ('-', '-', 'R', 4)\n",
            "x ('0', '0', 'R', 4)\n",
            "x ('1', '1', 'R', 4)\n",
            "Action ('1', '1', 'R', 4)\n",
            "x ('0', '0', 'R', 4)\n",
            "Action ('0', '0', 'R', 4)\n",
            "x ('0', '0', 'R', 4)\n",
            "Action ('0', '0', 'R', 4)\n",
            "x ('0', '0', 'R', 4)\n",
            "x ('1', '1', 'R', 4)\n",
            "x ('-', '-', 'L', 5)\n",
            "Action ('-', '-', 'L', 5)\n",
            "x ('0', '1', 'L', 6)\n",
            "Action ('0', '1', 'L', 6)\n",
            "x ('0', '0', 'L', 6)\n",
            "Action ('0', '0', 'L', 6)\n",
            "x ('0', '0', 'L', 6)\n",
            "x ('1', '1', 'L', 6)\n",
            "Action ('1', '1', 'L', 6)\n",
            "x ('0', '0', 'L', 6)\n",
            "x ('1', '1', 'L', 6)\n",
            "x ('-', '-', '*', 6, '!')\n",
            "Action ('-', '-', '*', 6, '!')\n",
            "Result ['-', '1', '0', '1', '-']\n"
          ]
        }
      ]
    },
    {
      "cell_type": "markdown",
      "source": [
        "### Suma de dos numeros naturales"
      ],
      "metadata": {
        "id": "t0DqF_oSOY3I"
      }
    },
    {
      "cell_type": "markdown",
      "source": [
        "En la realización de esta operación se trabajara con la representación de los numeros en  cantidades de los mismos y se usara el 0 como un delimitador dentro de la cinta. "
      ],
      "metadata": {
        "id": "mPoIm0MZOmD7"
      }
    },
    {
      "cell_type": "code",
      "source": [
        "def suma(a,b):\n",
        "\n",
        "    representacion_a = ['1' for i in range(a)]\n",
        "    representacion_b = ['1' for i in range(b)]\n",
        "\n",
        "    instruction = [\n",
        "        [('1','1','L',1)], # Q0\n",
        "        [('1','1','L',1),('0','1','L',2)], # Q1\n",
        "        [('1','1','L',2),('-','-','R',3)], # Q2\n",
        "        [('1','-','L',3,'!')], # Q3\n",
        "    ]\n",
        "    input = representacion_a + ['0'] + representacion_b \n",
        "    print(\"Input\", input)\n",
        "    result = turing_machine(instruction,input)\n",
        "    print(\"Result: \", result)"
      ],
      "metadata": {
        "id": "u_xjj65VOgZ1"
      },
      "execution_count": 29,
      "outputs": []
    },
    {
      "cell_type": "markdown",
      "source": [
        "#### TEST 1"
      ],
      "metadata": {
        "id": "2JiHLw1LVXzF"
      }
    },
    {
      "cell_type": "code",
      "source": [
        "# Suma 2 + 1 = 3\n",
        "suma(2,1)"
      ],
      "metadata": {
        "colab": {
          "base_uri": "https://localhost:8080/",
          "height": 469
        },
        "id": "DqkKL8VWVKuQ",
        "outputId": "9a8fe7df-7745-4e04-894f-4547e1a4b627"
      },
      "execution_count": 30,
      "outputs": [
        {
          "output_type": "stream",
          "name": "stdout",
          "text": [
            "Input ['1', '1', '0', '1']\n",
            "Head ['1', '1', '0', '1']\n",
            "State [('1', '1', 'L', 1)]\n",
            "x ('1', '1', 'L', 1)\n",
            "Action ('1', '1', 'L', 1)\n",
            "x ('1', '1', 'L', 1)\n",
            "x ('0', '1', 'L', 2)\n",
            "Action None\n"
          ]
        },
        {
          "output_type": "error",
          "ename": "TypeError",
          "evalue": "ignored",
          "traceback": [
            "\u001b[0;31m---------------------------------------------------------------------------\u001b[0m",
            "\u001b[0;31mTypeError\u001b[0m                                 Traceback (most recent call last)",
            "\u001b[0;32m<ipython-input-30-33cdab9f61d5>\u001b[0m in \u001b[0;36m<module>\u001b[0;34m\u001b[0m\n\u001b[1;32m      1\u001b[0m \u001b[0;31m# Suma 2 + 1 = 3\u001b[0m\u001b[0;34m\u001b[0m\u001b[0;34m\u001b[0m\u001b[0;34m\u001b[0m\u001b[0m\n\u001b[0;32m----> 2\u001b[0;31m \u001b[0msuma\u001b[0m\u001b[0;34m(\u001b[0m\u001b[0;36m2\u001b[0m\u001b[0;34m,\u001b[0m\u001b[0;36m1\u001b[0m\u001b[0;34m)\u001b[0m\u001b[0;34m\u001b[0m\u001b[0;34m\u001b[0m\u001b[0m\n\u001b[0m",
            "\u001b[0;32m<ipython-input-29-f99b956bae49>\u001b[0m in \u001b[0;36msuma\u001b[0;34m(a, b)\u001b[0m\n\u001b[1;32m     12\u001b[0m     \u001b[0minput\u001b[0m \u001b[0;34m=\u001b[0m \u001b[0mrepresentacion_a\u001b[0m \u001b[0;34m+\u001b[0m \u001b[0;34m[\u001b[0m\u001b[0;34m'0'\u001b[0m\u001b[0;34m]\u001b[0m \u001b[0;34m+\u001b[0m \u001b[0mrepresentacion_b\u001b[0m\u001b[0;34m\u001b[0m\u001b[0;34m\u001b[0m\u001b[0m\n\u001b[1;32m     13\u001b[0m     \u001b[0mprint\u001b[0m\u001b[0;34m(\u001b[0m\u001b[0;34m\"Input\"\u001b[0m\u001b[0;34m,\u001b[0m \u001b[0minput\u001b[0m\u001b[0;34m)\u001b[0m\u001b[0;34m\u001b[0m\u001b[0;34m\u001b[0m\u001b[0m\n\u001b[0;32m---> 14\u001b[0;31m     \u001b[0mresult\u001b[0m \u001b[0;34m=\u001b[0m \u001b[0mturing_machine\u001b[0m\u001b[0;34m(\u001b[0m\u001b[0minstruction\u001b[0m\u001b[0;34m,\u001b[0m\u001b[0minput\u001b[0m\u001b[0;34m)\u001b[0m\u001b[0;34m\u001b[0m\u001b[0;34m\u001b[0m\u001b[0m\n\u001b[0m\u001b[1;32m     15\u001b[0m     \u001b[0mprint\u001b[0m\u001b[0;34m(\u001b[0m\u001b[0;34m\"Result: \"\u001b[0m\u001b[0;34m,\u001b[0m \u001b[0mresult\u001b[0m\u001b[0;34m)\u001b[0m\u001b[0;34m\u001b[0m\u001b[0;34m\u001b[0m\u001b[0m\n",
            "\u001b[0;32m<ipython-input-27-4f1fedbb7bbe>\u001b[0m in \u001b[0;36mturing_machine\u001b[0;34m(instruction, input)\u001b[0m\n\u001b[1;32m     17\u001b[0m         \u001b[0mprint\u001b[0m\u001b[0;34m(\u001b[0m\u001b[0;34m\"Action\"\u001b[0m\u001b[0;34m,\u001b[0m \u001b[0maction\u001b[0m\u001b[0;34m)\u001b[0m\u001b[0;34m\u001b[0m\u001b[0;34m\u001b[0m\u001b[0m\n\u001b[1;32m     18\u001b[0m         \u001b[0;31m# If the action is stop\u001b[0m\u001b[0;34m\u001b[0m\u001b[0;34m\u001b[0m\u001b[0;34m\u001b[0m\u001b[0m\n\u001b[0;32m---> 19\u001b[0;31m         \u001b[0;32mif\u001b[0m \u001b[0;34m'!'\u001b[0m \u001b[0;32min\u001b[0m \u001b[0maction\u001b[0m\u001b[0;34m:\u001b[0m\u001b[0;34m\u001b[0m\u001b[0;34m\u001b[0m\u001b[0m\n\u001b[0m\u001b[1;32m     20\u001b[0m             \u001b[0;32mreturn\u001b[0m \u001b[0mhead\u001b[0m\u001b[0;34m\u001b[0m\u001b[0;34m\u001b[0m\u001b[0m\n\u001b[1;32m     21\u001b[0m         \u001b[0;31m# Change the value in head\u001b[0m\u001b[0;34m\u001b[0m\u001b[0;34m\u001b[0m\u001b[0;34m\u001b[0m\u001b[0m\n",
            "\u001b[0;31mTypeError\u001b[0m: argument of type 'NoneType' is not iterable"
          ]
        }
      ]
    }
  ],
  "metadata": {
    "kernelspec": {
      "display_name": "Python 3",
      "language": "python",
      "name": "python3"
    },
    "language_info": {
      "codemirror_mode": {
        "name": "ipython",
        "version": 2
      },
      "file_extension": ".py",
      "mimetype": "text/x-python",
      "name": "python",
      "nbconvert_exporter": "python",
      "pygments_lexer": "ipython2",
      "version": "2.7.6"
    },
    "colab": {
      "name": "turing.ipynb",
      "provenance": [],
      "collapsed_sections": [],
      "include_colab_link": true
    }
  },
  "nbformat": 4,
  "nbformat_minor": 0
}